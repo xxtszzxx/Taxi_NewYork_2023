{
  "nbformat": 4,
  "nbformat_minor": 0,
  "metadata": {
    "colab": {
      "provenance": []
    },
    "kernelspec": {
      "name": "python3",
      "display_name": "Python 3"
    },
    "language_info": {
      "name": "python"
    }
  },
  "cells": [
    {
      "cell_type": "code",
      "execution_count": null,
      "metadata": {
        "colab": {
          "base_uri": "https://localhost:8080/"
        },
        "id": "67dN_dnDIZNR",
        "outputId": "bf3b24b0-272f-45d8-cedb-b47409ec0f47"
      },
      "outputs": [
        {
          "output_type": "stream",
          "name": "stderr",
          "text": [
            "<ipython-input-7-020f325ecacd>:37: SettingWithCopyWarning: \n",
            "A value is trying to be set on a copy of a slice from a DataFrame\n",
            "\n",
            "See the caveats in the documentation: https://pandas.pydata.org/pandas-docs/stable/user_guide/indexing.html#returning-a-view-versus-a-copy\n",
            "  df.drop(['VendorID', 'tpep_pickup_datetime', 'tpep_dropoff_datetime'], axis=1, inplace=True)\n"
          ]
        }
      ],
      "source": [
        "import pandas as pd\n",
        "import numpy as np\n",
        "import pyarrow.parquet as pq\n",
        "\n",
        "# wczytuję dane\n",
        "df_january = pq.read_table(source='/content/yellow_tripdata_2023-01.parquet').to_pandas()\n",
        "\n",
        "\n",
        "# zmieniam daty na datetime w pandas\n",
        "df_january['tpep_pickup_datetime'] = pd.to_datetime(df_january['tpep_pickup_datetime'], format='%y-%m-%d %H:%M:%S')\n",
        "df_january['tpep_dropoff_datetime'] = pd.to_datetime(df_january['tpep_dropoff_datetime'], format='%y-%m-%d %H:%M:%S')\n",
        "\n",
        "# dzielę kolumny z czasem począku podrózy na rok, mieiąc, dzień, dzień tygodnia, godzinę\n",
        "\n",
        "df_january['year'] = pd.to_datetime(df_january['tpep_pickup_datetime']).dt.year\n",
        "df_january['month'] = pd.to_datetime(df_january['tpep_pickup_datetime']).dt.month\n",
        "df_january['day'] = pd.to_datetime(df_january['tpep_pickup_datetime']).dt.day\n",
        "df_january['hour_of_day'] = pd.to_datetime(df_january['tpep_pickup_datetime']).dt.hour\n",
        "\n",
        "# obliczam czas podróży\n",
        "pickup_array = df_january['tpep_pickup_datetime'].values\n",
        "dropoff_array = df_january['tpep_dropoff_datetime'].values\n",
        "\n",
        "trip_duration = np.subtract(dropoff_array, pickup_array)\n",
        "\n",
        "# dodaję nową kolumnę trip_duration do df i zamieniam na sekundy\n",
        "df_january['trip_duration'] = pd.Series(trip_duration)\n",
        "\n",
        "df_january['trip_duration'] = df_january['trip_duration'].dt.total_seconds()\n",
        "\n",
        "# tworzę nowy dataframe z wybranym tygodniem - 22 - 29 maja\n",
        "df1 = df_january[df_january['month'] == 1]\n",
        "df2 = df1[df1['day'] >= 22]\n",
        "df = df2[df2['day'] <= 29]\n",
        "\n",
        "# czyszczę dane - wyrzucam niepotrzebna kolumny, takie jak 'tpep_pickup_datetime', 'tpep_dropoff_datetime' i 'VendorID'\n",
        "df.drop(['VendorID', 'tpep_pickup_datetime', 'tpep_dropoff_datetime'], axis=1, inplace=True)\n",
        "\n",
        "# czyszczę dane - mui być przynjamniej jeden pasażer, przejazd muiał być dłuższy niz 0\n",
        "df = df[df['passenger_count'] >= 1]\n",
        "df = df[df['trip_duration'] > 0]\n",
        "\n",
        "# zapiuję w ten sposob otrzymany dataframe do csc\n",
        "df.to_csv('taxi_january.csv')"
      ]
    }
  ]
}